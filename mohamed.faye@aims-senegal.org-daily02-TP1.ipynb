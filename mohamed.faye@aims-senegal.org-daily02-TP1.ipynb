{
 "cells": [
  {
   "cell_type": "markdown",
   "id": "426486dd",
   "metadata": {
    "id": "426486dd"
   },
   "source": [
    "# Practical_1: Variables and Assignments"
   ]
  },
  {
   "cell_type": "markdown",
   "id": "f18bd0ae-c8c4-427d-b06c-d4a5d34f34c8",
   "metadata": {
    "id": "9fb19f0d"
   },
   "source": [
    "## Exercise 1:\n",
    "Declare a variable `x` and assign it the value `10`."
   ]
  },
  {
   "cell_type": "code",
   "execution_count": 1,
   "id": "32fcf89d-64f3-4fba-a1cf-6c91cb7b7646",
   "metadata": {},
   "outputs": [],
   "source": [
    "# Exercise 1\n",
    "x = 10"
   ]
  },
  {
   "cell_type": "markdown",
   "id": "2a7e5a7d-7c1f-4c8c-9c3f-8c8d8e8e8e8e",
   "metadata": {},
   "source": [
    "## Exercise 2:\n",
    "Assign the value `True` to a variable called `is_valid`."
   ]
  },
  {
   "cell_type": "code",
   "execution_count": 2,
   "id": "5e9ad16a-02b1-4e04-9910-6cff396467bc",
   "metadata": {},
   "outputs": [],
   "source": [
    "# Exercise 2\n",
    "is_valid = True"
   ]
  },
  {
   "cell_type": "markdown",
   "id": "3b3b3b3b-3b3b-3b3b-3b3b-3b3b3b3b3b3b",
   "metadata": {},
   "source": [
    "## Exercise 3:\n",
    "Create a string variable `name` with the value \"Python Programming\"."
   ]
  },
  {
   "cell_type": "code",
   "execution_count": 3,
   "id": "fa7e483e-b320-4a88-ba6f-a1d044a2434f",
   "metadata": {},
   "outputs": [],
   "source": [
    "# Exercise 3\n",
    "name = \"Python Programming\""
   ]
  },
  {
   "cell_type": "markdown",
   "id": "4c4c4c4c-4c4c-4c4c-4c4c-4c4c4c4c4c4c",
   "metadata": {},
   "source": [
    "## Exercise 4:\n",
    "Assign the result of `5 + 3` to a variable `sum_result`."
   ]
  },
  {
   "cell_type": "code",
   "execution_count": 4,
   "id": "7f58e5ce-75bc-4ab9-b09a-5c5db488588b",
   "metadata": {},
   "outputs": [],
   "source": [
    "# Exercise 4\n",
    "sum_result = 5 + 3"
   ]
  },
  {
   "cell_type": "markdown",
   "id": "5d5d5d5d-5d5d-5d5d-5d5d-5d5d5d5d5d5d",
   "metadata": {},
   "source": [
    "## Exercise 5:\n",
    "Assign multiple variables in one line: `a = 5`, `b = 10`, `c = 15`."
   ]
  },
  {
   "cell_type": "code",
   "execution_count": 5,
   "id": "981c1229-b9b9-4432-91df-d5ef124e23d8",
   "metadata": {},
   "outputs": [],
   "source": [
    "# Exercise 5\n",
    "a, b, c = 5, 10, 15"
   ]
  },
  {
   "cell_type": "markdown",
   "id": "6e6e6e6e-6e6e-6e6e-6e6e-6e6e6e6e6e6e",
   "metadata": {},
   "source": [
    "## Exercise 6:\n",
    "Assign the value of one variable `x` to another variable `y`."
   ]
  },
  {
   "cell_type": "code",
   "execution_count": 6,
   "id": "7a7a7a7a-7a7a-7a7a-7a7a-7a7a7a7a7a7a",
   "metadata": {},
   "outputs": [],
   "source": [
    "# Exercise 6\n",
    "y = x"
   ]
  },
  {
   "cell_type": "markdown",
   "id": "8f8f8f8f-8f8f-8f8f-8f8f-8f8f8f8f8f8f",
   "metadata": {},
   "source": [
    "## Exercise 7:\n",
    "Assign a floating-point number `9.8` to a variable `gravity`."
   ]
  },
  {
   "cell_type": "code",
   "execution_count": 7,
   "id": "9a9a9a9a-9a9a-9a9a-9a9a-9a9a9a9a9a9a",
   "metadata": {},
   "outputs": [],
   "source": [
    "# Exercise 7\n",
    "gravity = 9.8"
   ]
  },
  {
   "cell_type": "markdown",
   "id": "1b1b1b1b-1b1b-1b1b-1b1b-1b1b1b1b1b1b",
   "metadata": {},
   "source": [
    "## Exercise 8:\n",
    "Create a variable `country` and assign it the string value of your favorite country."
   ]
  },
  {
   "cell_type": "code",
   "execution_count": 8,
   "id": "2c2c2c2c-2c2c-2c2c-2c2c-2c2c2c2c2c2c",
   "metadata": {},
   "outputs": [],
   "source": [
    "# Exercise 8\n",
    "country = \"Senegal\""
   ]
  },
  {
   "cell_type": "markdown",
   "id": "3d3d3d3d-3d3d-3d3d-3d3d-3d3d3d3d3d3d",
   "metadata": {},
   "source": [
    "## Exercise 9:\n",
    "Change the value of variable `age` from `25` to `26` in two separate steps."
   ]
  },
  {
   "cell_type": "code",
   "execution_count": 9,
   "id": "4e4e4e4e-4e4e-4e4e-4e4e-4e4e4e4e4e4e",
   "metadata": {},
   "outputs": [],
   "source": [
    "# Exercise 9\n",
    "age = 25\n",
    "age = 26"
   ]
  },
  {
   "cell_type": "markdown",
   "id": "5f5f5f5f-5f5f-5f5f-5f5f-5f5f5f5f5f5f",
   "metadata": {},
   "source": [
    "## Exercise 10:\n",
    "Use one variable to store the result of subtracting two numbers `20 - 7`."
   ]
  },
  {
   "cell_type": "code",
   "execution_count": 10,
   "id": "6a6a6a6a-6a6a-6a6a-6a6a-6a6a6a6a6a6a",
   "metadata": {},
   "outputs": [],
   "source": [
    "# Exercise 10\n",
    "subtraction_result = 20 - 7"
   ]
  },
  {
   "cell_type": "markdown",
   "id": "7b7b7b7b-7b7b-7b7b-7b7b-7b7b7b7b7b7b",
   "metadata": {},
   "source": [
    "## Exercise 11:\n",
    "Assign an integer value and a floating-point value to two different variables."
   ]
  },
  {
   "cell_type": "code",
   "execution_count": 11,
   "id": "8c8c8c8c-8c8c-8c8c-8c8c-8c8c8c8c8c8c",
   "metadata": {},
   "outputs": [],
   "source": [
    "# Exercise 11\n",
    "int_value = 42\n",
    "float_value = 3.14987"
   ]
  },
  {
   "cell_type": "markdown",
   "id": "9d9d9d9d-9d9d-9d9d-9d9d-9d9d9d9d9d9d",
   "metadata": {},
   "source": [
    "## Exercise 12:\n",
    "Assign a boolean value `False` to a variable `is_completed`."
   ]
  },
  {
   "cell_type": "code",
   "execution_count": 12,
   "id": "1e1e1e1e-1e1e-1e1e-1e1e-1e1e1e1e1e1e",
   "metadata": {},
   "outputs": [],
   "source": [
    "# Exercise 12\n",
    "is_completed = False"
   ]
  },
  {
   "cell_type": "markdown",
   "id": "0f0f0f0f-0f0f-0f0f-0f0f-0f0f0f0f0f0f",
   "metadata": {},
   "source": [
    "## Exercise 13:\n",
    "Swap the values of two variables `x` and `y`."
   ]
  },
  {
   "cell_type": "code",
   "execution_count": 13,
   "id": "2d2d2d2d-2d2d-2d2d-2d2d-2d2d2d2d2d2d",
   "metadata": {},
   "outputs": [],
   "source": [
    "# Exercise 13\n",
    "x, y = y, x"
   ]
  },
  {
   "cell_type": "markdown",
   "id": "3e3e3e3e-3e3e-3e3e-3e3e-3e3e3e3e3e3e",
   "metadata": {},
   "source": [
    "## Exercise 14:\n",
    "Assign a complex number `3 + 4j` to a variable `complex_num`."
   ]
  },
  {
   "cell_type": "code",
   "execution_count": 14,
   "id": "4f4f4f4f-4f4f-4f4f-4f4f-4f4f4f4f4f4f",
   "metadata": {},
   "outputs": [],
   "source": [
    "# Exercise 14\n",
    "complex_num = 3 + 4j"
   ]
  },
  {
   "cell_type": "markdown",
   "id": "5a5a5a5a-5a5a-5a5a-5a5a-5a5a5a5a5a5a",
   "metadata": {},
   "source": [
    "## Exercise 15:\n",
    "Reassign a variable from an integer to a string."
   ]
  },
  {
   "cell_type": "code",
   "execution_count": 15,
   "id": "6b6b6b6b-6b6b-6b6b-6b6b-6b6b6b6b6b6b",
   "metadata": {},
   "outputs": [],
   "source": [
    "# Exercise 15\n",
    "variable = 43\n",
    "variable = \"Aims\""
   ]
  },
  {
   "cell_type": "markdown",
   "id": "7c7c7c7c-7c7c-7c7c-7c7c-7c7c7c7c7c7c",
   "metadata": {},
   "source": [
    "## Exercise 16:\n",
    "Create two variables `first_name` and `last_name`, and assign them your first and last names."
   ]
  },
  {
   "cell_type": "code",
   "execution_count": 16,
   "id": "8d8d8d8d-8d8d-8d8d-8d8d-8d8d8d8d8d8d",
   "metadata": {},
   "outputs": [],
   "source": [
    "# Exercise 16\n",
    "first_name = \"Mohamed\"\n",
    "last_name = \"Faye\""
   ]
  },
  {
   "cell_type": "markdown",
   "id": "9e9e9e9e-9e9e-9e9e-9e9e-9e9e9e9e9e9e",
   "metadata": {},
   "source": [
    "## Exercise 17:\n",
    "Create a variable `temperature` and assign it the value of `35.5`."
   ]
  },
  {
   "cell_type": "code",
   "execution_count": 17,
   "id": "0a0a0a0a-0a0a-0a0a-0a0a-0a0a0a0a0a0a",
   "metadata": {},
   "outputs": [],
   "source": [
    "# Exercise 17\n",
    "temperature = 35.5"
   ]
  },
  {
   "cell_type": "markdown",
   "id": "1a1a1a1a-1a1a-1a1a-1a1a-1a1a1a1a1a1a",
   "metadata": {},
   "source": [
    "## Exercise 18:\n",
    "Assign the result of the multiplication of two numbers `8 * 6` to a variable `product`."
   ]
  },
  {
   "cell_type": "code",
   "execution_count": 18,
   "id": "2b2b2b2b-2b2b-2b2b-2b2b-2b2b2b2b2b2b",
   "metadata": {},
   "outputs": [],
   "source": [
    "# Exercise 18\n",
    "product = 8 * 6"
   ]
  },
  {
   "cell_type": "markdown",
   "id": "3a3a3a3a-3a3a-3a3a-3a3a-3a3a3a3a3a3a",
   "metadata": {},
   "source": [
    "## Exercise 19:\n",
    "Assign a sentence of your choice to a variable `sentence`."
   ]
  },
  {
   "cell_type": "code",
   "execution_count": 19,
   "id": "4b4b4b4b-4b4b-4b4b-4b4b-4b4b4b4b4b4b",
   "metadata": {},
   "outputs": [],
   "source": [
    "# Exercise 19\n",
    "sentence = \"Aims is the best school in Africa\""
   ]
  },
  {
   "cell_type": "markdown",
   "id": "5c5c5c5c-5c5c-5c5c-5c5c-5c5c5c5c5c5c",
   "metadata": {},
   "source": [
    "## Exercise 20:\n",
    "Use an assignment to convert a string `'50'` into an integer variable `int_value`."
   ]
  },
  {
   "cell_type": "code",
   "execution_count": 20,
   "id": "6d6d6d6d-6d6d-6d6d-6d6d-6d6d6d6d6d6d",
   "metadata": {},
   "outputs": [],
   "source": [
    "# Exercise 20\n",
    "int_value = int('50')"
   ]
  },
  {
   "cell_type": "markdown",
   "id": "7e7e7e7e-7e7e-7e7e-7e7e-7e7e7e7e7e7e",
   "metadata": {},
   "source": [
    "## Exercise 21:\n",
    "Assign the result of dividing `144` by `12` to a variable `quotient`."
   ]
  },
  {
   "cell_type": "code",
   "execution_count": 21,
   "id": "906de6e0",
   "metadata": {},
   "outputs": [],
   "source": [
    "# Exercise 21\n",
    "quotient = 144 / 12"
   ]
  },
  {
   "cell_type": "markdown",
   "id": "9f9f9f9f-9f9f-9f9f-9f9f-9f9f9f9f9f9f",
   "metadata": {},
   "source": [
    "## Exercise 22:\n",
    "Assign the remainder of `47 divided by 5` to a variable `remainder`."
   ]
  },
  {
   "cell_type": "code",
   "execution_count": 22,
   "id": "0b0b0b0b-0b0b-0b0b-0b0b-0b0b0b0b0b0b",
   "metadata": {},
   "outputs": [],
   "source": [
    "# Exercise 22\n",
    "remainder = 47 % 5"
   ]
  },
  {
   "cell_type": "markdown",
   "id": "1c1c1c1c-1c1c-1c1c-1c1c-1c1c1c1c1c1c",
   "metadata": {},
   "source": [
    "## Exercise 23:\n",
    "Create a variable `is_student` and assign it the value `True`."
   ]
  },
  {
   "cell_type": "code",
   "execution_count": 23,
   "id": "00ddfc57",
   "metadata": {},
   "outputs": [],
   "source": [
    "# Exercise 23\n",
    "is_student = True"
   ]
  },
  {
   "cell_type": "markdown",
   "id": "3f3f3f3f-3f3f-3f3f-3f3f-3f3f3f3f3f3f",
   "metadata": {},
   "source": [
    "## Exercise 24:\n",
    "Use a variable to store the result of a modulo operation: `45 % 4`."
   ]
  },
  {
   "cell_type": "code",
   "execution_count": 24,
   "id": "9f7270ac",
   "metadata": {},
   "outputs": [],
   "source": [
    "# Exercise 24\n",
    "mod_variable = 45 % 4"
   ]
  },
  {
   "cell_type": "markdown",
   "id": "4dc0a5ca",
   "metadata": {},
   "source": [
    "## Exercise 25:\n",
    "Create a variable `pi` and assign it the value `3.14159`."
   ]
  },
  {
   "cell_type": "code",
   "execution_count": 25,
   "id": "1f3f7114",
   "metadata": {},
   "outputs": [],
   "source": [
    "# Exercise 25\n",
    "pi = 3.14159"
   ]
  },
  {
   "cell_type": "markdown",
   "id": "7f7f7f7f-7f7f-7f7f-7f7f-7f7f7f7f7f7f",
   "metadata": {},
   "source": [
    "## Exercise 26:\n",
    "Create two variables `length` and `width`, assign them values, and calculate the area of a rectangle."
   ]
  },
  {
   "cell_type": "code",
   "execution_count": 26,
   "id": "31697077",
   "metadata": {},
   "outputs": [],
   "source": [
    "# Exercise 26\n",
    "length = 65\n",
    "width = 24\n",
    "area = length * width"
   ]
  },
  {
   "cell_type": "markdown",
   "id": "9g9g9g9g-9g9g-9g9g-9g9g-9g9g9g9g9g9g",
   "metadata": {},
   "source": [
    "## Exercise 27:\n",
    "Assign a negative number to a variable `negative_value`."
   ]
  },
  {
   "cell_type": "code",
   "execution_count": 27,
   "id": "0h0h0h0h-0h0h-0h0h-0h0h-0h0h0h0h0h0h",
   "metadata": {},
   "outputs": [],
   "source": [
    "# Exercise 27\n",
    "negative_value = -54"
   ]
  },
  {
   "cell_type": "markdown",
   "id": "1i1i1i1i-1i1i-1i1i-1i1i-1i1i1i1i1i1i",
   "metadata": {},
   "source": [
    "## Exercise 28:\n",
    "Assign a string containing a special character (e.g., \"Hello, World!\") to a variable `greeting`."
   ]
  },
  {
   "cell_type": "code",
   "execution_count": 28,
   "id": "2j2j2j2j-2j2j-2j2j-2j2j-2j2j2j2j2j2j",
   "metadata": {},
   "outputs": [],
   "source": [
    "# Exercise 28\n",
    "greeting = \"Hello, World!\""
   ]
  },
  {
   "cell_type": "markdown",
   "id": "3k3k3k3k-3k3k-3k3k-3k3k-3k3k3k3k3k3k",
   "metadata": {},
   "source": [
    "## Exercise 29:\n",
    "Create a variable `population` and assign it a large integer value (in billions)."
   ]
  },
  {
   "cell_type": "code",
   "execution_count": 29,
   "id": "4l4l4l4l-4l4l-4l4l-4l4l-4l4l4l4l4l4l",
   "metadata": {},
   "outputs": [],
   "source": [
    "# Exercise 29\n",
    "population = 7_000_000_000  # 8 milliards "
   ]
  },
  {
   "cell_type": "markdown",
   "id": "5m5m5m5m-5m5m-5m5m-5m5m-5m5m5m5m5m5m",
   "metadata": {},
   "source": [
    "## Exercise 30:\n",
    "Use a variable to store the result of raising `2` to the power of `8`."
   ]
  },
  {
   "cell_type": "code",
   "execution_count": 30,
   "id": "6n6n6n6n-6n6n-6n6n-6n6n-6n6n6n6n6n6n",
   "metadata": {},
   "outputs": [],
   "source": [
    "# Exercise 30\n",
    "power_result = 2 ** 8"
   ]
  },
  {
   "cell_type": "markdown",
   "id": "7o7o7o7o-7o7o-7o7o-7o7o-7o7o7o7o7o7o",
   "metadata": {},
   "source": [
    "## Exercise 31:\n",
    "Assign a list of your favorite fruits to a variable `fruits`."
   ]
  },
  {
   "cell_type": "code",
   "execution_count": 31,
   "id": "8p8p8p8p-8p8p-8p8p-8p8p-8p8p8p8p8p8p",
   "metadata": {},
   "outputs": [],
   "source": [
    "# Exercise 31\n",
    "fruits = [\"ananas\", \"orange\", \"papaye\", \"banane\", \"pomme\"]"
   ]
  },
  {
   "cell_type": "markdown",
   "id": "9q9q9q9q-9q9q-9q9q-9q9q-9q9q9q9q9q9q",
   "metadata": {},
   "source": [
    "## Exercise 32:\n",
    "Assign a tuple of three numbers to a variable `coordinates`."
   ]
  },
  {
   "cell_type": "code",
   "execution_count": 32,
   "id": "0r0r0r0r-0r0r-0r0r-0r0r-0r0r0r0r0r0r",
   "metadata": {},
   "outputs": [],
   "source": [
    "# Exercise 32\n",
    "coordinates = (10, 20, 30)"
   ]
  },
  {
   "cell_type": "markdown",
   "id": "1s1s1s1s-1s1s-1s1s-1s1s-1s1s1s1s1s1s",
   "metadata": {},
   "source": [
    "## Exercise 33:\n",
    "Assign a dictionary with keys `name` and `age` to a variable `person`."
   ]
  },
  {
   "cell_type": "code",
   "execution_count": 33,
   "id": "2t2t2t2t-2t2t-2t2t-2t2t-2t2t2t2t2t2t",
   "metadata": {},
   "outputs": [],
   "source": [
    "# Exercise 33\n",
    "person = {\"name\": \"Faye Mohamed\", \"age\": 26}"
   ]
  },
  {
   "cell_type": "markdown",
   "id": "3u3u3u3u-3u3u-3u3u-3u3u-3u3u3u3u3u3u",
   "metadata": {},
   "source": [
    "## Exercise 34:\n",
    "Use variables to store the sum of two floating-point numbers."
   ]
  },
  {
   "cell_type": "code",
   "execution_count": 34,
   "id": "4v4v4v4v-4v4v-4v4v-4v4v-4v4v4v4v4v4v",
   "metadata": {},
   "outputs": [],
   "source": [
    "# Exercise 34\n",
    "sum_float = 8.7 + 4.23"
   ]
  },
  {
   "cell_type": "markdown",
   "id": "5w5w5w5w-5w5w-5w5w-5w5w-5w5w5w5w5w5w",
   "metadata": {},
   "source": [
    "## Exercise 35:\n",
    "Create a variable `is_sunny` and assign it the result of a comparison `10 > 5`."
   ]
  },
  {
   "cell_type": "code",
   "execution_count": 35,
   "id": "6x6x6x6x-6x6x-6x6x-6x6x-6x6x6x6x6x6x",
   "metadata": {},
   "outputs": [],
   "source": [
    "# Exercise 35\n",
    "is_sunny = 10 > 5"
   ]
  },
  {
   "cell_type": "markdown",
   "id": "7y7y7y7y-7y7y-7y7y-7y7y-7y7y7y7y7y7y",
   "metadata": {},
   "source": [
    "## Exercise 36:\n",
    "Assign a string and an integer to two different variables, then print both on one line."
   ]
  },
  {
   "cell_type": "code",
   "execution_count": 36,
   "id": "8z8z8z8z-8z8z-8z8z-8z8z-8z8z8z8z8z8z",
   "metadata": {},
   "outputs": [
    {
     "name": "stdout",
     "output_type": "stream",
     "text": [
      "Amirou 87\n"
     ]
    }
   ],
   "source": [
    "# Exercise 36\n",
    "name_str = \"Amirou\"\n",
    "age_int = 87\n",
    "print(name_str, age_int)"
   ]
  },
  {
   "cell_type": "markdown",
   "id": "9772c2aa",
   "metadata": {},
   "source": [
    "## Exercise 37:\n",
    "Reassign a variable that originally held a number to a boolean value."
   ]
  },
  {
   "cell_type": "code",
   "execution_count": 37,
   "id": "b1af4c96",
   "metadata": {},
   "outputs": [],
   "source": [
    "# Exercise 37\n",
    "variable = 100\n",
    "variable = False"
   ]
  },
  {
   "cell_type": "markdown",
   "id": "611c0c22",
   "metadata": {},
   "source": [
    "## Exercise 38:\n",
    "Create a variable `is_weekend` and assign it the result of `False`."
   ]
  },
  {
   "cell_type": "code",
   "execution_count": 38,
   "id": "87d228d4",
   "metadata": {},
   "outputs": [],
   "source": [
    "# Exercise 38\n",
    "is_weekend = False"
   ]
  },
  {
   "cell_type": "markdown",
   "id": "cad09169",
   "metadata": {},
   "source": [
    "## Exercise 39:\n",
    "Assign a multi-line string to a variable `description`."
   ]
  },
  {
   "cell_type": "code",
   "execution_count": 39,
   "id": "6005c95c",
   "metadata": {},
   "outputs": [],
   "source": [
    "# Exercise 39\n",
    "description = \"\"\"je suis etudiant\n",
    "a Aims Senegal\"\"\""
   ]
  },
  {
   "cell_type": "markdown",
   "id": "5g5g5g5g-5g5g-5g5g-5g5g-5g5g5g5g5g5g",
   "metadata": {},
   "source": [
    "## Exercise 40:\n",
    "Use variables to store the result of the absolute value of `-25`."
   ]
  },
  {
   "cell_type": "code",
   "execution_count": 40,
   "id": "6h6h6h6h-6h6h-6h6h-6h6h-6h6h6h6h6h6h",
   "metadata": {},
   "outputs": [],
   "source": [
    "# Exercise 40\n",
    "absolute_value = abs(-25)"
   ]
  },
  {
   "cell_type": "markdown",
   "id": "7i7i7i7i-7i7i-7i7i-7i7i-7i7i7i7i7i7i",
   "metadata": {},
   "source": [
    "## Exercise 41:\n",
    "Assign the result of a floor division `100 // 6` to a variable `floor_div_result`."
   ]
  },
  {
   "cell_type": "code",
   "execution_count": 41,
   "id": "8j8j8j8j-8j8j-8j8j-8j8j-8j8j8j8j8j8j",
   "metadata": {},
   "outputs": [],
   "source": [
    "# Exercise 41\n",
    "floor_div_result = 100 // 6"
   ]
  },
  {
   "cell_type": "markdown",
   "id": "9k9k9k9k-9k9k-9k9k-9k9k-9k9k9k9k9k9k",
   "metadata": {},
   "source": [
    "## Exercise 42:\n",
    "Assign the result of adding a floating-point number to an integer to a variable `mixed_sum`."
   ]
  },
  {
   "cell_type": "code",
   "execution_count": 42,
   "id": "0l0l0l0l-0l0l-0l0l-0l0l-0l0l0l0l0l0l",
   "metadata": {},
   "outputs": [],
   "source": [
    "# Exercise 42\n",
    "float_num = 87.98\n",
    "int_num = 54\n",
    "mixed_sum = float_num + int_num"
   ]
  },
  {
   "cell_type": "markdown",
   "id": "1m1m1m1m-1m1m-1m1m-1m1m-1m1m1m1m1m1m",
   "metadata": {},
   "source": [
    "## Exercise 43:\n",
    "Assign a boolean value based on the comparison of two variables `a = 10` and `b = 15`."
   ]
  },
  {
   "cell_type": "code",
   "execution_count": 43,
   "id": "2n2n2n2n-2n2n-2n2n-2n2n-2n2n2n2n2n2n",
   "metadata": {},
   "outputs": [],
   "source": [
    "# Exercise 43\n",
    "a = 10\n",
    "b = 15\n",
    "compare_value = a < b"
   ]
  },
  {
   "cell_type": "markdown",
   "id": "3o3o3o3o-3o3o-3o3o-3o3o-3o3o3o3o3o3o",
   "metadata": {},
   "source": [
    "## Exercise 44:\n",
    "Assign a long sentence to a variable and count its characters using `len()`."
   ]
  },
  {
   "cell_type": "code",
   "execution_count": 44,
   "id": "4p4p4p4p-4p4p-4p4p-4p4p-4p4p4p4p4p4p",
   "metadata": {},
   "outputs": [],
   "source": [
    "# Exercise 44\n",
    "long_sentence = \"Cette phrase contient un certain nombre de caractères\"\n",
    "char_count = len(long_sentence)"
   ]
  },
  {
   "cell_type": "markdown",
   "id": "5q5q5q5q-5q5q-5q5q-5q5q-5q5q5q5q5q5q",
   "metadata": {},
   "source": [
    "## Exercise 45:\n",
    "Assign a fractional result `7 / 3` to a variable `division_result`."
   ]
  },
  {
   "cell_type": "code",
   "execution_count": 45,
   "id": "6r6r6r6r-6r6r-6r6r-6r6r-6r6r6r6r6r6r",
   "metadata": {},
   "outputs": [],
   "source": [
    "# Exercise 45\n",
    "division_result = 7 / 3"
   ]
  },
  {
   "cell_type": "markdown",
   "id": "7s7s7s7s-7s7s-7s7s-7s7s-7s7s7s7s7s7s",
   "metadata": {},
   "source": [
    "## Exercise 46:\n",
    "Create a variable `speed` and assign it the value of 100 kilometers per hour."
   ]
  },
  {
   "cell_type": "code",
   "execution_count": 46,
   "id": "8t8t8t8t-8t8t-8t8t-8t8t-8t8t8t8t8t8t",
   "metadata": {},
   "outputs": [],
   "source": [
    "# Exercise 46\n",
    "speed = 100  # kilometers per hour"
   ]
  },
  {
   "cell_type": "markdown",
   "id": "9u9u9u9u-9u9u-9u9u-9u9u-9u9u9u9u9u9u",
   "metadata": {},
   "source": [
    "## Exercise 47:\n",
    "Assign a multi-variable equation like `y = 3x + 5` where `x = 4` to a variable `y`."
   ]
  },
  {
   "cell_type": "code",
   "execution_count": 47,
   "id": "0v0v0v0v-0v0v-0v0v-0v0v-0v0v0v0v0v0v",
   "metadata": {},
   "outputs": [],
   "source": [
    "# Exercise 47\n",
    "x = 4\n",
    "y = 3 * x + 5"
   ]
  },
  {
   "cell_type": "markdown",
   "id": "1w1w1w1w-1w1w-1w1w-1w1w-1w1w1w1w1w1w",
   "metadata": {},
   "source": [
    "## Exercise 48:\n",
    "Use variables to calculate and store the average of three numbers."
   ]
  },
  {
   "cell_type": "code",
   "execution_count": 48,
   "id": "2x2x2x2x-2x2x-2x2x-2x2x-2x2x2x2x2x2x",
   "metadata": {},
   "outputs": [],
   "source": [
    "# Exercise 48\n",
    "num_1, num_2, num_3 = 43, 54, 60\n",
    "average = (num_1 + num_2 + num_3) / 3"
   ]
  }
 ],
 "metadata": {
  "colab": {
   "provenance": []
  },
  "kernelspec": {
   "display_name": "Python [conda env:base] *",
   "language": "python",
   "name": "conda-base-py"
  },
  "language_info": {
   "codemirror_mode": {
    "name": "ipython",
    "version": 3
   },
   "file_extension": ".py",
   "mimetype": "text/x-python",
   "name": "python",
   "nbconvert_exporter": "python",
   "pygments_lexer": "ipython3",
   "version": "3.12.7"
  }
 },
 "nbformat": 4,
 "nbformat_minor": 5
}
